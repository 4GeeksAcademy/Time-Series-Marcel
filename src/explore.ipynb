{
    "cells": [
        {
            "cell_type": "markdown",
            "metadata": {},
            "source": [
                "# Explore here"
            ]
        },
        {
            "cell_type": "markdown",
            "metadata": {},
            "source": [
                "We are going to focus on Lake_Bilancino for this exercise. Do and EDA and Build a Model."
            ]
        },
        {
            "cell_type": "code",
            "execution_count": 12,
            "metadata": {},
            "outputs": [
                {
                    "data": {
                        "text/html": [
                            "<div>\n",
                            "<style scoped>\n",
                            "    .dataframe tbody tr th:only-of-type {\n",
                            "        vertical-align: middle;\n",
                            "    }\n",
                            "\n",
                            "    .dataframe tbody tr th {\n",
                            "        vertical-align: top;\n",
                            "    }\n",
                            "\n",
                            "    .dataframe thead th {\n",
                            "        text-align: right;\n",
                            "    }\n",
                            "</style>\n",
                            "<table border=\"1\" class=\"dataframe\">\n",
                            "  <thead>\n",
                            "    <tr style=\"text-align: right;\">\n",
                            "      <th></th>\n",
                            "      <th>Date</th>\n",
                            "      <th>Rainfall_S_Piero</th>\n",
                            "      <th>Rainfall_Mangona</th>\n",
                            "      <th>Rainfall_S_Agata</th>\n",
                            "      <th>Rainfall_Cavallina</th>\n",
                            "      <th>Rainfall_Le_Croci</th>\n",
                            "      <th>Temperature_Le_Croci</th>\n",
                            "      <th>Lake_Level</th>\n",
                            "      <th>Flow_Rate</th>\n",
                            "    </tr>\n",
                            "  </thead>\n",
                            "  <tbody>\n",
                            "    <tr>\n",
                            "      <th>0</th>\n",
                            "      <td>03/06/2002</td>\n",
                            "      <td>NaN</td>\n",
                            "      <td>NaN</td>\n",
                            "      <td>NaN</td>\n",
                            "      <td>NaN</td>\n",
                            "      <td>NaN</td>\n",
                            "      <td>NaN</td>\n",
                            "      <td>249.43</td>\n",
                            "      <td>0.31</td>\n",
                            "    </tr>\n",
                            "    <tr>\n",
                            "      <th>1</th>\n",
                            "      <td>04/06/2002</td>\n",
                            "      <td>NaN</td>\n",
                            "      <td>NaN</td>\n",
                            "      <td>NaN</td>\n",
                            "      <td>NaN</td>\n",
                            "      <td>NaN</td>\n",
                            "      <td>NaN</td>\n",
                            "      <td>249.43</td>\n",
                            "      <td>0.31</td>\n",
                            "    </tr>\n",
                            "    <tr>\n",
                            "      <th>2</th>\n",
                            "      <td>05/06/2002</td>\n",
                            "      <td>NaN</td>\n",
                            "      <td>NaN</td>\n",
                            "      <td>NaN</td>\n",
                            "      <td>NaN</td>\n",
                            "      <td>NaN</td>\n",
                            "      <td>NaN</td>\n",
                            "      <td>249.43</td>\n",
                            "      <td>0.31</td>\n",
                            "    </tr>\n",
                            "    <tr>\n",
                            "      <th>3</th>\n",
                            "      <td>06/06/2002</td>\n",
                            "      <td>NaN</td>\n",
                            "      <td>NaN</td>\n",
                            "      <td>NaN</td>\n",
                            "      <td>NaN</td>\n",
                            "      <td>NaN</td>\n",
                            "      <td>NaN</td>\n",
                            "      <td>249.43</td>\n",
                            "      <td>0.31</td>\n",
                            "    </tr>\n",
                            "    <tr>\n",
                            "      <th>4</th>\n",
                            "      <td>07/06/2002</td>\n",
                            "      <td>NaN</td>\n",
                            "      <td>NaN</td>\n",
                            "      <td>NaN</td>\n",
                            "      <td>NaN</td>\n",
                            "      <td>NaN</td>\n",
                            "      <td>NaN</td>\n",
                            "      <td>249.44</td>\n",
                            "      <td>0.31</td>\n",
                            "    </tr>\n",
                            "  </tbody>\n",
                            "</table>\n",
                            "</div>"
                        ],
                        "text/plain": [
                            "         Date  Rainfall_S_Piero  Rainfall_Mangona  Rainfall_S_Agata  \\\n",
                            "0  03/06/2002               NaN               NaN               NaN   \n",
                            "1  04/06/2002               NaN               NaN               NaN   \n",
                            "2  05/06/2002               NaN               NaN               NaN   \n",
                            "3  06/06/2002               NaN               NaN               NaN   \n",
                            "4  07/06/2002               NaN               NaN               NaN   \n",
                            "\n",
                            "   Rainfall_Cavallina  Rainfall_Le_Croci  Temperature_Le_Croci  Lake_Level  \\\n",
                            "0                 NaN                NaN                   NaN      249.43   \n",
                            "1                 NaN                NaN                   NaN      249.43   \n",
                            "2                 NaN                NaN                   NaN      249.43   \n",
                            "3                 NaN                NaN                   NaN      249.43   \n",
                            "4                 NaN                NaN                   NaN      249.44   \n",
                            "\n",
                            "   Flow_Rate  \n",
                            "0       0.31  \n",
                            "1       0.31  \n",
                            "2       0.31  \n",
                            "3       0.31  \n",
                            "4       0.31  "
                        ]
                    },
                    "execution_count": 12,
                    "metadata": {},
                    "output_type": "execute_result"
                }
            ],
            "source": [
                "import pandas as pd\n",
                "import numpy as np\n",
                "import seaborn as sns\n",
                "import matplotlib.pyplot as plt\n",
                "\n",
                "# Load Lake Bilancino dataset\n",
                "df = pd.read_csv('/workspaces/Time-Series-Marcel/data/acea-water-prediction/Lake_Bilancino.csv')\n",
                "\n",
                "# Display the first few rows of the dataset\n",
                "df.head()"
            ]
        },
        {
            "cell_type": "code",
            "execution_count": 14,
            "metadata": {},
            "outputs": [
                {
                    "data": {
                        "text/html": [
                            "<div>\n",
                            "<style scoped>\n",
                            "    .dataframe tbody tr th:only-of-type {\n",
                            "        vertical-align: middle;\n",
                            "    }\n",
                            "\n",
                            "    .dataframe tbody tr th {\n",
                            "        vertical-align: top;\n",
                            "    }\n",
                            "\n",
                            "    .dataframe thead th {\n",
                            "        text-align: right;\n",
                            "    }\n",
                            "</style>\n",
                            "<table border=\"1\" class=\"dataframe\">\n",
                            "  <thead>\n",
                            "    <tr style=\"text-align: right;\">\n",
                            "      <th></th>\n",
                            "      <th>Date</th>\n",
                            "      <th>Lake_Level</th>\n",
                            "      <th>Flow_Rate</th>\n",
                            "    </tr>\n",
                            "  </thead>\n",
                            "  <tbody>\n",
                            "    <tr>\n",
                            "      <th>0</th>\n",
                            "      <td>03/06/2002</td>\n",
                            "      <td>249.43</td>\n",
                            "      <td>0.31</td>\n",
                            "    </tr>\n",
                            "    <tr>\n",
                            "      <th>1</th>\n",
                            "      <td>04/06/2002</td>\n",
                            "      <td>249.43</td>\n",
                            "      <td>0.31</td>\n",
                            "    </tr>\n",
                            "    <tr>\n",
                            "      <th>2</th>\n",
                            "      <td>05/06/2002</td>\n",
                            "      <td>249.43</td>\n",
                            "      <td>0.31</td>\n",
                            "    </tr>\n",
                            "    <tr>\n",
                            "      <th>3</th>\n",
                            "      <td>06/06/2002</td>\n",
                            "      <td>249.43</td>\n",
                            "      <td>0.31</td>\n",
                            "    </tr>\n",
                            "    <tr>\n",
                            "      <th>4</th>\n",
                            "      <td>07/06/2002</td>\n",
                            "      <td>249.44</td>\n",
                            "      <td>0.31</td>\n",
                            "    </tr>\n",
                            "  </tbody>\n",
                            "</table>\n",
                            "</div>"
                        ],
                        "text/plain": [
                            "         Date  Lake_Level  Flow_Rate\n",
                            "0  03/06/2002      249.43       0.31\n",
                            "1  04/06/2002      249.43       0.31\n",
                            "2  05/06/2002      249.43       0.31\n",
                            "3  06/06/2002      249.43       0.31\n",
                            "4  07/06/2002      249.44       0.31"
                        ]
                    },
                    "execution_count": 14,
                    "metadata": {},
                    "output_type": "execute_result"
                }
            ],
            "source": [
                "# Drop not useful columns\n",
                "df_Bilancino = df.drop(['Rainfall_S_Piero', 'Rainfall_Mangona', 'Rainfall_S_Agata', 'Rainfall_Cavallina', 'Rainfall_Le_Croci', 'Temperature_Le_Croci'], axis=1)\n",
                "\n",
                "df_Bilancino.head()"
            ]
        },
        {
            "cell_type": "code",
            "execution_count": 15,
            "metadata": {},
            "outputs": [
                {
                    "name": "stdout",
                    "output_type": "stream",
                    "text": [
                        "Date           0\n",
                        "Lake_Level     0\n",
                        "Flow_Rate     21\n",
                        "dtype: int64\n"
                    ]
                }
            ],
            "source": [
                "# Check for missing values\n",
                "print(df_Bilancino.isnull().sum())"
            ]
        },
        {
            "cell_type": "code",
            "execution_count": 24,
            "metadata": {},
            "outputs": [],
            "source": [
                "# Convert the 'date' column to datetime format\n",
                "df_Bilancino['Date'] = pd.to_datetime(df_Bilancino['Date'], format='%d/%m/%Y')"
            ]
        },
        {
            "cell_type": "code",
            "execution_count": 29,
            "metadata": {},
            "outputs": [],
            "source": [
                "# Extract the year and create a new 'year' column\n",
                "df_Bilancino['Year'] = df_Bilancino['Date'].dt.year"
            ]
        },
        {
            "cell_type": "code",
            "execution_count": 30,
            "metadata": {},
            "outputs": [
                {
                    "name": "stdout",
                    "output_type": "stream",
                    "text": [
                        "      Date  Lake_Level  Flow_Rate  Year\n",
                        "Year                                   \n",
                        "2002     0           0         16     0\n",
                        "2003     0           0          5     0\n",
                        "2004     0           0          0     0\n",
                        "2005     0           0          0     0\n",
                        "2006     0           0          0     0\n",
                        "2007     0           0          0     0\n",
                        "2008     0           0          0     0\n",
                        "2009     0           0          0     0\n",
                        "2010     0           0          0     0\n",
                        "2011     0           0          0     0\n",
                        "2012     0           0          0     0\n",
                        "2013     0           0          0     0\n",
                        "2014     0           0          0     0\n",
                        "2015     0           0          0     0\n",
                        "2016     0           0          0     0\n",
                        "2017     0           0          0     0\n",
                        "2018     0           0          0     0\n",
                        "2019     0           0          0     0\n",
                        "2020     0           0          0     0\n"
                    ]
                },
                {
                    "name": "stderr",
                    "output_type": "stream",
                    "text": [
                        "/tmp/ipykernel_6820/616062419.py:2: DeprecationWarning: DataFrameGroupBy.apply operated on the grouping columns. This behavior is deprecated, and in a future version of pandas the grouping columns will be excluded from the operation. Either pass `include_groups=False` to exclude the groupings or explicitly select the grouping columns after groupby to silence this warning.\n",
                        "  null_counts_per_year = df_Bilancino.groupby('Year').apply(lambda x: x.isnull().sum())\n"
                    ]
                }
            ],
            "source": [
                "# Group by the 'Year' column and count null values for each column\n",
                "null_counts_per_year = df_Bilancino.groupby('Year').apply(lambda x: x.isnull().sum())\n",
                "\n",
                "# Display the result\n",
                "print(null_counts_per_year)"
            ]
        },
        {
            "cell_type": "markdown",
            "metadata": {},
            "source": [
                "All Null values are found from the years 2002 & 2003. Therefore we will drop those rows and focus on the more accurate data from 2004 onwards."
            ]
        },
        {
            "cell_type": "code",
            "execution_count": 33,
            "metadata": {},
            "outputs": [
                {
                    "ename": "KeyError",
                    "evalue": "'Year'",
                    "output_type": "error",
                    "traceback": [
                        "\u001b[0;31m---------------------------------------------------------------------------\u001b[0m",
                        "\u001b[0;31mKeyError\u001b[0m                                  Traceback (most recent call last)",
                        "File \u001b[0;32m~/.local/lib/python3.10/site-packages/pandas/core/indexes/base.py:3805\u001b[0m, in \u001b[0;36mIndex.get_loc\u001b[0;34m(self, key)\u001b[0m\n\u001b[1;32m   3804\u001b[0m \u001b[39mtry\u001b[39;00m:\n\u001b[0;32m-> 3805\u001b[0m     \u001b[39mreturn\u001b[39;00m \u001b[39mself\u001b[39;49m\u001b[39m.\u001b[39;49m_engine\u001b[39m.\u001b[39;49mget_loc(casted_key)\n\u001b[1;32m   3806\u001b[0m \u001b[39mexcept\u001b[39;00m \u001b[39mKeyError\u001b[39;00m \u001b[39mas\u001b[39;00m err:\n",
                        "File \u001b[0;32mindex.pyx:167\u001b[0m, in \u001b[0;36mpandas._libs.index.IndexEngine.get_loc\u001b[0;34m()\u001b[0m\n",
                        "File \u001b[0;32mindex.pyx:196\u001b[0m, in \u001b[0;36mpandas._libs.index.IndexEngine.get_loc\u001b[0;34m()\u001b[0m\n",
                        "File \u001b[0;32mpandas/_libs/hashtable_class_helper.pxi:7081\u001b[0m, in \u001b[0;36mpandas._libs.hashtable.PyObjectHashTable.get_item\u001b[0;34m()\u001b[0m\n",
                        "File \u001b[0;32mpandas/_libs/hashtable_class_helper.pxi:7089\u001b[0m, in \u001b[0;36mpandas._libs.hashtable.PyObjectHashTable.get_item\u001b[0;34m()\u001b[0m\n",
                        "\u001b[0;31mKeyError\u001b[0m: 'Year'",
                        "\nThe above exception was the direct cause of the following exception:\n",
                        "\u001b[0;31mKeyError\u001b[0m                                  Traceback (most recent call last)",
                        "\u001b[1;32m/workspaces/Time-Series-Marcel/src/explore.ipynb Celda 10\u001b[0m line \u001b[0;36m2\n\u001b[1;32m      <a href='vscode-notebook-cell://codespaces%2Bprobable-space-umbrella-xj7qjvwgqp7c6r4r/workspaces/Time-Series-Marcel/src/explore.ipynb#X12sdnNjb2RlLXJlbW90ZQ%3D%3D?line=0'>1</a>\u001b[0m \u001b[39m# Filter the DataFrame to keep only years >= 2004\u001b[39;00m\n\u001b[0;32m----> <a href='vscode-notebook-cell://codespaces%2Bprobable-space-umbrella-xj7qjvwgqp7c6r4r/workspaces/Time-Series-Marcel/src/explore.ipynb#X12sdnNjb2RlLXJlbW90ZQ%3D%3D?line=1'>2</a>\u001b[0m df_Bilancino \u001b[39m=\u001b[39m df_Bilancino[df_Bilancino[\u001b[39m'\u001b[39;49m\u001b[39mYear\u001b[39;49m\u001b[39m'\u001b[39;49m] \u001b[39m>\u001b[39m \u001b[39m2003\u001b[39m]\n\u001b[1;32m      <a href='vscode-notebook-cell://codespaces%2Bprobable-space-umbrella-xj7qjvwgqp7c6r4r/workspaces/Time-Series-Marcel/src/explore.ipynb#X12sdnNjb2RlLXJlbW90ZQ%3D%3D?line=2'>3</a>\u001b[0m \u001b[39m# Drop the 'Year' column as it is no longer needed\u001b[39;00m\n\u001b[1;32m      <a href='vscode-notebook-cell://codespaces%2Bprobable-space-umbrella-xj7qjvwgqp7c6r4r/workspaces/Time-Series-Marcel/src/explore.ipynb#X12sdnNjb2RlLXJlbW90ZQ%3D%3D?line=3'>4</a>\u001b[0m df_Bilancino \u001b[39m=\u001b[39m df_Bilancino\u001b[39m.\u001b[39mdrop(\u001b[39m'\u001b[39m\u001b[39mYear\u001b[39m\u001b[39m'\u001b[39m, axis\u001b[39m=\u001b[39m\u001b[39m1\u001b[39m)\n",
                        "File \u001b[0;32m~/.local/lib/python3.10/site-packages/pandas/core/frame.py:4102\u001b[0m, in \u001b[0;36mDataFrame.__getitem__\u001b[0;34m(self, key)\u001b[0m\n\u001b[1;32m   4100\u001b[0m \u001b[39mif\u001b[39;00m \u001b[39mself\u001b[39m\u001b[39m.\u001b[39mcolumns\u001b[39m.\u001b[39mnlevels \u001b[39m>\u001b[39m \u001b[39m1\u001b[39m:\n\u001b[1;32m   4101\u001b[0m     \u001b[39mreturn\u001b[39;00m \u001b[39mself\u001b[39m\u001b[39m.\u001b[39m_getitem_multilevel(key)\n\u001b[0;32m-> 4102\u001b[0m indexer \u001b[39m=\u001b[39m \u001b[39mself\u001b[39;49m\u001b[39m.\u001b[39;49mcolumns\u001b[39m.\u001b[39;49mget_loc(key)\n\u001b[1;32m   4103\u001b[0m \u001b[39mif\u001b[39;00m is_integer(indexer):\n\u001b[1;32m   4104\u001b[0m     indexer \u001b[39m=\u001b[39m [indexer]\n",
                        "File \u001b[0;32m~/.local/lib/python3.10/site-packages/pandas/core/indexes/base.py:3812\u001b[0m, in \u001b[0;36mIndex.get_loc\u001b[0;34m(self, key)\u001b[0m\n\u001b[1;32m   3807\u001b[0m     \u001b[39mif\u001b[39;00m \u001b[39misinstance\u001b[39m(casted_key, \u001b[39mslice\u001b[39m) \u001b[39mor\u001b[39;00m (\n\u001b[1;32m   3808\u001b[0m         \u001b[39misinstance\u001b[39m(casted_key, abc\u001b[39m.\u001b[39mIterable)\n\u001b[1;32m   3809\u001b[0m         \u001b[39mand\u001b[39;00m \u001b[39many\u001b[39m(\u001b[39misinstance\u001b[39m(x, \u001b[39mslice\u001b[39m) \u001b[39mfor\u001b[39;00m x \u001b[39min\u001b[39;00m casted_key)\n\u001b[1;32m   3810\u001b[0m     ):\n\u001b[1;32m   3811\u001b[0m         \u001b[39mraise\u001b[39;00m InvalidIndexError(key)\n\u001b[0;32m-> 3812\u001b[0m     \u001b[39mraise\u001b[39;00m \u001b[39mKeyError\u001b[39;00m(key) \u001b[39mfrom\u001b[39;00m \u001b[39merr\u001b[39;00m\n\u001b[1;32m   3813\u001b[0m \u001b[39mexcept\u001b[39;00m \u001b[39mTypeError\u001b[39;00m:\n\u001b[1;32m   3814\u001b[0m     \u001b[39m# If we have a listlike key, _check_indexing_error will raise\u001b[39;00m\n\u001b[1;32m   3815\u001b[0m     \u001b[39m#  InvalidIndexError. Otherwise we fall through and re-raise\u001b[39;00m\n\u001b[1;32m   3816\u001b[0m     \u001b[39m#  the TypeError.\u001b[39;00m\n\u001b[1;32m   3817\u001b[0m     \u001b[39mself\u001b[39m\u001b[39m.\u001b[39m_check_indexing_error(key)\n",
                        "\u001b[0;31mKeyError\u001b[0m: 'Year'"
                    ]
                }
            ],
            "source": [
                "# Filter the DataFrame to keep only years >= 2004\n",
                "df_Bilancino = df_Bilancino[df_Bilancino['Year'] > 2003]\n",
                "# Drop the 'Year' column as it is no longer needed\n",
                "df_Bilancino = df_Bilancino.drop('Year', axis=1)\n",
                "\n",
                "df_Bilancino.head()"
            ]
        }
    ],
    "metadata": {
        "kernelspec": {
            "display_name": "Python 3.8.13 64-bit ('3.8.13')",
            "language": "python",
            "name": "python3"
        },
        "language_info": {
            "codemirror_mode": {
                "name": "ipython",
                "version": 3
            },
            "file_extension": ".py",
            "mimetype": "text/x-python",
            "name": "python",
            "nbconvert_exporter": "python",
            "pygments_lexer": "ipython3",
            "version": "3.8.13"
        },
        "orig_nbformat": 4,
        "vscode": {
            "interpreter": {
                "hash": "110cc1dee26208153f2972f08a2ad52b6a56238dc66d48e87fb757ef2996db56"
            }
        }
    },
    "nbformat": 4,
    "nbformat_minor": 2
}
