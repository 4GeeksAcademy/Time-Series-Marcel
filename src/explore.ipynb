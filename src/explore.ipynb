{
    "cells": [
        {
            "cell_type": "markdown",
            "metadata": {},
            "source": [
                "# Explore here"
            ]
        },
        {
            "cell_type": "markdown",
            "metadata": {},
            "source": [
                "We are going to focus on Lake_Bilancino for this exercise. Do and EDA and Build a Model."
            ]
        },
        {
            "cell_type": "code",
            "execution_count": 12,
            "metadata": {},
            "outputs": [
                {
                    "data": {
                        "text/html": [
                            "<div>\n",
                            "<style scoped>\n",
                            "    .dataframe tbody tr th:only-of-type {\n",
                            "        vertical-align: middle;\n",
                            "    }\n",
                            "\n",
                            "    .dataframe tbody tr th {\n",
                            "        vertical-align: top;\n",
                            "    }\n",
                            "\n",
                            "    .dataframe thead th {\n",
                            "        text-align: right;\n",
                            "    }\n",
                            "</style>\n",
                            "<table border=\"1\" class=\"dataframe\">\n",
                            "  <thead>\n",
                            "    <tr style=\"text-align: right;\">\n",
                            "      <th></th>\n",
                            "      <th>Date</th>\n",
                            "      <th>Rainfall_S_Piero</th>\n",
                            "      <th>Rainfall_Mangona</th>\n",
                            "      <th>Rainfall_S_Agata</th>\n",
                            "      <th>Rainfall_Cavallina</th>\n",
                            "      <th>Rainfall_Le_Croci</th>\n",
                            "      <th>Temperature_Le_Croci</th>\n",
                            "      <th>Lake_Level</th>\n",
                            "      <th>Flow_Rate</th>\n",
                            "    </tr>\n",
                            "  </thead>\n",
                            "  <tbody>\n",
                            "    <tr>\n",
                            "      <th>0</th>\n",
                            "      <td>03/06/2002</td>\n",
                            "      <td>NaN</td>\n",
                            "      <td>NaN</td>\n",
                            "      <td>NaN</td>\n",
                            "      <td>NaN</td>\n",
                            "      <td>NaN</td>\n",
                            "      <td>NaN</td>\n",
                            "      <td>249.43</td>\n",
                            "      <td>0.31</td>\n",
                            "    </tr>\n",
                            "    <tr>\n",
                            "      <th>1</th>\n",
                            "      <td>04/06/2002</td>\n",
                            "      <td>NaN</td>\n",
                            "      <td>NaN</td>\n",
                            "      <td>NaN</td>\n",
                            "      <td>NaN</td>\n",
                            "      <td>NaN</td>\n",
                            "      <td>NaN</td>\n",
                            "      <td>249.43</td>\n",
                            "      <td>0.31</td>\n",
                            "    </tr>\n",
                            "    <tr>\n",
                            "      <th>2</th>\n",
                            "      <td>05/06/2002</td>\n",
                            "      <td>NaN</td>\n",
                            "      <td>NaN</td>\n",
                            "      <td>NaN</td>\n",
                            "      <td>NaN</td>\n",
                            "      <td>NaN</td>\n",
                            "      <td>NaN</td>\n",
                            "      <td>249.43</td>\n",
                            "      <td>0.31</td>\n",
                            "    </tr>\n",
                            "    <tr>\n",
                            "      <th>3</th>\n",
                            "      <td>06/06/2002</td>\n",
                            "      <td>NaN</td>\n",
                            "      <td>NaN</td>\n",
                            "      <td>NaN</td>\n",
                            "      <td>NaN</td>\n",
                            "      <td>NaN</td>\n",
                            "      <td>NaN</td>\n",
                            "      <td>249.43</td>\n",
                            "      <td>0.31</td>\n",
                            "    </tr>\n",
                            "    <tr>\n",
                            "      <th>4</th>\n",
                            "      <td>07/06/2002</td>\n",
                            "      <td>NaN</td>\n",
                            "      <td>NaN</td>\n",
                            "      <td>NaN</td>\n",
                            "      <td>NaN</td>\n",
                            "      <td>NaN</td>\n",
                            "      <td>NaN</td>\n",
                            "      <td>249.44</td>\n",
                            "      <td>0.31</td>\n",
                            "    </tr>\n",
                            "  </tbody>\n",
                            "</table>\n",
                            "</div>"
                        ],
                        "text/plain": [
                            "         Date  Rainfall_S_Piero  Rainfall_Mangona  Rainfall_S_Agata  \\\n",
                            "0  03/06/2002               NaN               NaN               NaN   \n",
                            "1  04/06/2002               NaN               NaN               NaN   \n",
                            "2  05/06/2002               NaN               NaN               NaN   \n",
                            "3  06/06/2002               NaN               NaN               NaN   \n",
                            "4  07/06/2002               NaN               NaN               NaN   \n",
                            "\n",
                            "   Rainfall_Cavallina  Rainfall_Le_Croci  Temperature_Le_Croci  Lake_Level  \\\n",
                            "0                 NaN                NaN                   NaN      249.43   \n",
                            "1                 NaN                NaN                   NaN      249.43   \n",
                            "2                 NaN                NaN                   NaN      249.43   \n",
                            "3                 NaN                NaN                   NaN      249.43   \n",
                            "4                 NaN                NaN                   NaN      249.44   \n",
                            "\n",
                            "   Flow_Rate  \n",
                            "0       0.31  \n",
                            "1       0.31  \n",
                            "2       0.31  \n",
                            "3       0.31  \n",
                            "4       0.31  "
                        ]
                    },
                    "execution_count": 12,
                    "metadata": {},
                    "output_type": "execute_result"
                }
            ],
            "source": [
                "import pandas as pd\n",
                "import numpy as np\n",
                "import seaborn as sns\n",
                "import matplotlib.pyplot as plt\n",
                "\n",
                "# Load Lake Bilancino dataset\n",
                "df = pd.read_csv('/workspaces/Time-Series-Marcel/data/acea-water-prediction/Lake_Bilancino.csv')\n",
                "\n",
                "# Display the first few rows of the dataset\n",
                "df.head()"
            ]
        },
        {
            "cell_type": "code",
            "execution_count": 14,
            "metadata": {},
            "outputs": [
                {
                    "data": {
                        "text/html": [
                            "<div>\n",
                            "<style scoped>\n",
                            "    .dataframe tbody tr th:only-of-type {\n",
                            "        vertical-align: middle;\n",
                            "    }\n",
                            "\n",
                            "    .dataframe tbody tr th {\n",
                            "        vertical-align: top;\n",
                            "    }\n",
                            "\n",
                            "    .dataframe thead th {\n",
                            "        text-align: right;\n",
                            "    }\n",
                            "</style>\n",
                            "<table border=\"1\" class=\"dataframe\">\n",
                            "  <thead>\n",
                            "    <tr style=\"text-align: right;\">\n",
                            "      <th></th>\n",
                            "      <th>Date</th>\n",
                            "      <th>Lake_Level</th>\n",
                            "      <th>Flow_Rate</th>\n",
                            "    </tr>\n",
                            "  </thead>\n",
                            "  <tbody>\n",
                            "    <tr>\n",
                            "      <th>0</th>\n",
                            "      <td>03/06/2002</td>\n",
                            "      <td>249.43</td>\n",
                            "      <td>0.31</td>\n",
                            "    </tr>\n",
                            "    <tr>\n",
                            "      <th>1</th>\n",
                            "      <td>04/06/2002</td>\n",
                            "      <td>249.43</td>\n",
                            "      <td>0.31</td>\n",
                            "    </tr>\n",
                            "    <tr>\n",
                            "      <th>2</th>\n",
                            "      <td>05/06/2002</td>\n",
                            "      <td>249.43</td>\n",
                            "      <td>0.31</td>\n",
                            "    </tr>\n",
                            "    <tr>\n",
                            "      <th>3</th>\n",
                            "      <td>06/06/2002</td>\n",
                            "      <td>249.43</td>\n",
                            "      <td>0.31</td>\n",
                            "    </tr>\n",
                            "    <tr>\n",
                            "      <th>4</th>\n",
                            "      <td>07/06/2002</td>\n",
                            "      <td>249.44</td>\n",
                            "      <td>0.31</td>\n",
                            "    </tr>\n",
                            "  </tbody>\n",
                            "</table>\n",
                            "</div>"
                        ],
                        "text/plain": [
                            "         Date  Lake_Level  Flow_Rate\n",
                            "0  03/06/2002      249.43       0.31\n",
                            "1  04/06/2002      249.43       0.31\n",
                            "2  05/06/2002      249.43       0.31\n",
                            "3  06/06/2002      249.43       0.31\n",
                            "4  07/06/2002      249.44       0.31"
                        ]
                    },
                    "execution_count": 14,
                    "metadata": {},
                    "output_type": "execute_result"
                }
            ],
            "source": [
                "# Drop not useful columns\n",
                "df_Bilancino = df.drop(['Rainfall_S_Piero', 'Rainfall_Mangona', 'Rainfall_S_Agata', 'Rainfall_Cavallina', 'Rainfall_Le_Croci', 'Temperature_Le_Croci'], axis=1)\n",
                "\n",
                "df_Bilancino.head()"
            ]
        },
        {
            "cell_type": "code",
            "execution_count": 15,
            "metadata": {},
            "outputs": [
                {
                    "name": "stdout",
                    "output_type": "stream",
                    "text": [
                        "Date           0\n",
                        "Lake_Level     0\n",
                        "Flow_Rate     21\n",
                        "dtype: int64\n"
                    ]
                }
            ],
            "source": [
                "# Check for missing values\n",
                "print(df_Bilancino.isnull().sum())"
            ]
        },
        {
            "cell_type": "code",
            "execution_count": 16,
            "metadata": {},
            "outputs": [
                {
                    "name": "stdout",
                    "output_type": "stream",
                    "text": [
                        "Date          0\n",
                        "Lake_Level    0\n",
                        "Flow_Rate     0\n",
                        "dtype: int64\n"
                    ]
                }
            ],
            "source": [
                "# Drop Null values in Flow_rate column\n",
                "df_clean = df_Bilancino.dropna(subset=['Flow_Rate'])\n",
                "\n",
                "print(df_clean.isnull().sum())"
            ]
        }
    ],
    "metadata": {
        "kernelspec": {
            "display_name": "Python 3.8.13 64-bit ('3.8.13')",
            "language": "python",
            "name": "python3"
        },
        "language_info": {
            "codemirror_mode": {
                "name": "ipython",
                "version": 3
            },
            "file_extension": ".py",
            "mimetype": "text/x-python",
            "name": "python",
            "nbconvert_exporter": "python",
            "pygments_lexer": "ipython3",
            "version": "3.8.13"
        },
        "orig_nbformat": 4,
        "vscode": {
            "interpreter": {
                "hash": "110cc1dee26208153f2972f08a2ad52b6a56238dc66d48e87fb757ef2996db56"
            }
        }
    },
    "nbformat": 4,
    "nbformat_minor": 2
}
